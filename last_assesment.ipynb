{
  "nbformat": 4,
  "nbformat_minor": 0,
  "metadata": {
    "colab": {
      "name": "Untitled6.ipynb",
      "provenance": []
    },
    "kernelspec": {
      "name": "python3",
      "display_name": "Python 3"
    },
    "language_info": {
      "name": "python"
    }
  },
  "cells": [
    {
      "cell_type": "markdown",
      "source": [
        "Gerekli kütüphanelerin ve verisetinin yüklenmesi"
      ],
      "metadata": {
        "id": "acx2kYTrNPtA"
      }
    },
    {
      "cell_type": "code",
      "execution_count": 15,
      "metadata": {
        "id": "oxvE3B1oIXsG"
      },
      "outputs": [],
      "source": [
        "import numpy as np\n",
        "import pandas as pd\n",
        "import matplotlib.pyplot as plt\n",
        "import seaborn as sns\n",
        "\n",
        "from sklearn.preprocessing import StandardScaler\n",
        "from sklearn.model_selection import train_test_split\n",
        "\n",
        "from sklearn.linear_model import LogisticRegression\n",
        "from sklearn.svm import SVC\n",
        "from sklearn.neural_network import MLPClassifier\n",
        "df = pd.read_csv('https://raw.githubusercontent.com/tarikkranda/pi_intern_question/main/dataset.csv')\n"
      ]
    },
    {
      "cell_type": "markdown",
      "source": [
        "**Görselleştirme**"
      ],
      "metadata": {
        "id": "dX7LuBEVInoC"
      }
    },
    {
      "cell_type": "code",
      "source": [
        "import seaborn as sns\n",
        "import matplotlib.pyplot as plt"
      ],
      "metadata": {
        "id": "B8z4AlFBIadN"
      },
      "execution_count": 3,
      "outputs": []
    },
    {
      "cell_type": "markdown",
      "source": [
        "**Feature'ların(özniteliklerin) birbirleriyle ilişkili olup olmadığını görmek için korelasyonlarına bakabiliriz.**"
      ],
      "metadata": {
        "id": "6EtnoXZyI662"
      }
    },
    {
      "cell_type": "code",
      "source": [
        "plt.figure(figsize=(14,12))\n",
        "sns.heatmap(df.corr(),annot=True, vmin=-1.0, vmax=1.0)\n",
        "plt.show()"
      ],
      "metadata": {
        "colab": {
          "base_uri": "https://localhost:8080/",
          "height": 705
        },
        "id": "DUsZ5PqSItKc",
        "outputId": "434eb2b4-dfc4-4a10-cc99-79aea23d7ff0"
      },
      "execution_count": 4,
      "outputs": [
        {
          "output_type": "display_data",
          "data": {
            "text/plain": [
              "<Figure size 1008x864 with 2 Axes>"
            ],
            "image/png": "[encoded data removed]"
          },
          "metadata": {
            "needs_background": "light"
          }
        }
      ]
    },
    {
      "cell_type": "markdown",
      "source": [
        "Verisetimizdeki isVirus sütünunu tahmin etmeye çalışacağımız için veriyi iki parçaya bölüyorum."
      ],
      "metadata": {
        "id": "ZFpP08m1Lfxs"
      }
    },
    {
      "cell_type": "code",
      "source": [
        "y = df['isVirus']\n",
        "X = df.drop(['isVirus'],axis=1)\n"
      ],
      "metadata": {
        "id": "y_-Kl5xNIvMe"
      },
      "execution_count": 16,
      "outputs": []
    },
    {
      "cell_type": "markdown",
      "source": [
        "Özniteliklerdeki null değerleri, özniteliklerinin ortalamalarıyla değiştiriyorum. "
      ],
      "metadata": {
        "id": "L3DIy60-LoNc"
      }
    },
    {
      "cell_type": "code",
      "source": [
        "for i in X.columns:\n",
        "  X[i].fillna(value=X[i].mean(),inplace=True)"
      ],
      "metadata": {
        "id": "v_VgcgGIKUfC"
      },
      "execution_count": 19,
      "outputs": []
    },
    {
      "cell_type": "code",
      "source": [
        "X.isnull().sum()"
      ],
      "metadata": {
        "colab": {
          "base_uri": "https://localhost:8080/"
        },
        "id": "-dDqQ_iWKoh2",
        "outputId": "b4dca945-6d72-4f5c-df40-ce05c3c625f7"
      },
      "execution_count": 20,
      "outputs": [
        {
          "output_type": "execute_result",
          "data": {
            "text/plain": [
              "feature_1    0\n",
              "feature_2    0\n",
              "feature_3    0\n",
              "feature_4    0\n",
              "dtype: int64"
            ]
          },
          "metadata": {},
          "execution_count": 20
        }
      ]
    },
    {
      "cell_type": "markdown",
      "source": [
        "Modellerimizin daha iyi çalışması için eğitim yapacağımız verimizi belli bir ölçekte scale ediyorum. \n",
        "Standart Scaler temel olarak ortamalayı 0, standart sapmayı 1 kabul ederek verileri bu ölçüde scale etmeye yarar."
      ],
      "metadata": {
        "id": "EV7udL01M2h8"
      }
    },
    {
      "cell_type": "code",
      "source": [
        "scaler = StandardScaler()\n",
        "\n",
        "X = pd.DataFrame(scaler.fit_transform(X), columns=X.columns)"
      ],
      "metadata": {
        "id": "JJ5tszXCJ8WZ"
      },
      "execution_count": 21,
      "outputs": []
    },
    {
      "cell_type": "code",
      "source": [
        "X"
      ],
      "metadata": {
        "colab": {
          "base_uri": "https://localhost:8080/",
          "height": 424
        },
        "id": "CJRJYlbYKFQu",
        "outputId": "73a387a9-b6fb-4f88-888d-b0b12e882688"
      },
      "execution_count": 22,
      "outputs": [
        {
          "output_type": "execute_result",
          "data": {
            "text/plain": [
              "         feature_1  feature_2     feature_3  feature_4\n",
              "0    -6.221065e-01  -0.950477 -9.552960e-02   0.537161\n",
              "1     4.183114e-01  -0.356250  5.040958e-01  -0.013791\n",
              "2    -2.456457e-01   0.077280  4.669139e-01  -1.002083\n",
              "3    -1.443179e+00  -1.013817 -8.080760e-01  -0.638247\n",
              "4     3.954613e-01   2.239651  1.364108e-02   0.615444\n",
              "...            ...        ...           ...        ...\n",
              "1994  1.020046e+00   0.219878  8.627509e-01   0.802862\n",
              "1995 -6.591245e-17   1.129511  2.166358e-15   0.982386\n",
              "1996  1.926289e+00   0.116069 -3.319523e-01   2.002821\n",
              "1997  1.569058e+00   1.384766  8.012387e-01   1.414089\n",
              "1998  1.641020e+00   0.993153  2.166358e-15   0.438166\n",
              "\n",
              "[1999 rows x 4 columns]"
            ],
            "text/html": [
              "\n",
              "  <div id=\"df-0235c94f-5ce4-42b3-8d51-d4dfdb192293\">\n",
              "    <div class=\"colab-df-container\">\n",
              "      <div>\n",
              "<style scoped>\n",
              "    .dataframe tbody tr th:only-of-type {\n",
              "        vertical-align: middle;\n",
              "    }\n",
              "\n",
              "    .dataframe tbody tr th {\n",
              "        vertical-align: top;\n",
              "    }\n",
              "\n",
              "    .dataframe thead th {\n",
              "        text-align: right;\n",
              "    }\n",
              "</style>\n",
              "<table border=\"1\" class=\"dataframe\">\n",
              "  <thead>\n",
              "    <tr style=\"text-align: right;\">\n",
              "      <th></th>\n",
              "      <th>feature_1</th>\n",
              "      <th>feature_2</th>\n",
              "      <th>feature_3</th>\n",
              "      <th>feature_4</th>\n",
              "    </tr>\n",
              "  </thead>\n",
              "  <tbody>\n",
              "    <tr>\n",
              "      <th>0</th>\n",
              "      <td>-6.221065e-01</td>\n",
              "      <td>-0.950477</td>\n",
              "      <td>-9.552960e-02</td>\n",
              "      <td>0.537161</td>\n",
              "    </tr>\n",
              "    <tr>\n",
              "      <th>1</th>\n",
              "      <td>4.183114e-01</td>\n",
              "      <td>-0.356250</td>\n",
              "      <td>5.040958e-01</td>\n",
              "      <td>-0.013791</td>\n",
              "    </tr>\n",
              "    <tr>\n",
              "      <th>2</th>\n",
              "      <td>-2.456457e-01</td>\n",
              "      <td>0.077280</td>\n",
              "      <td>4.669139e-01</td>\n",
              "      <td>-1.002083</td>\n",
              "    </tr>\n",
              "    <tr>\n",
              "      <th>3</th>\n",
              "      <td>-1.443179e+00</td>\n",
              "      <td>-1.013817</td>\n",
              "      <td>-8.080760e-01</td>\n",
              "      <td>-0.638247</td>\n",
              "    </tr>\n",
              "    <tr>\n",
              "      <th>4</th>\n",
              "      <td>3.954613e-01</td>\n",
              "      <td>2.239651</td>\n",
              "      <td>1.364108e-02</td>\n",
              "      <td>0.615444</td>\n",
              "    </tr>\n",
              "    <tr>\n",
              "      <th>...</th>\n",
              "      <td>...</td>\n",
              "      <td>...</td>\n",
              "      <td>...</td>\n",
              "      <td>...</td>\n",
              "    </tr>\n",
              "    <tr>\n",
              "      <th>1994</th>\n",
              "      <td>1.020046e+00</td>\n",
              "      <td>0.219878</td>\n",
              "      <td>8.627509e-01</td>\n",
              "      <td>0.802862</td>\n",
              "    </tr>\n",
              "    <tr>\n",
              "      <th>1995</th>\n",
              "      <td>-6.591245e-17</td>\n",
              "      <td>1.129511</td>\n",
              "      <td>2.166358e-15</td>\n",
              "      <td>0.982386</td>\n",
              "    </tr>\n",
              "    <tr>\n",
              "      <th>1996</th>\n",
              "      <td>1.926289e+00</td>\n",
              "      <td>0.116069</td>\n",
              "      <td>-3.319523e-01</td>\n",
              "      <td>2.002821</td>\n",
              "    </tr>\n",
              "    <tr>\n",
              "      <th>1997</th>\n",
              "      <td>1.569058e+00</td>\n",
              "      <td>1.384766</td>\n",
              "      <td>8.012387e-01</td>\n",
              "      <td>1.414089</td>\n",
              "    </tr>\n",
              "    <tr>\n",
              "      <th>1998</th>\n",
              "      <td>1.641020e+00</td>\n",
              "      <td>0.993153</td>\n",
              "      <td>2.166358e-15</td>\n",
              "      <td>0.438166</td>\n",
              "    </tr>\n",
              "  </tbody>\n",
              "</table>\n",
              "<p>1999 rows × 4 columns</p>\n",
              "</div>\n",
              "      <button class=\"colab-df-convert\" onclick=\"convertToInteractive('df-0235c94f-5ce4-42b3-8d51-d4dfdb192293')\"\n",
              "              title=\"Convert this dataframe to an interactive table.\"\n",
              "              style=\"display:none;\">\n",
              "        \n",
              "  <svg xmlns=\"http://www.w3.org/2000/svg\" height=\"24px\"viewBox=\"0 0 24 24\"\n",
              "       width=\"24px\">\n",
              "    <path d=\"M0 0h24v24H0V0z\" fill=\"none\"/>\n",
              "    <path d=\"M18.56 5.44l.94 2.06.94-2.06 2.06-.94-2.06-.94-.94-2.06-.94 2.06-2.06.94zm-11 1L8.5 8.5l.94-2.06 2.06-.94-2.06-.94L8.5 2.5l-.94 2.06-2.06.94zm10 10l.94 2.06.94-2.06 2.06-.94-2.06-.94-.94-2.06-.94 2.06-2.06.94z\"/><path d=\"M17.41 7.96l-1.37-1.37c-.4-.4-.92-.59-1.43-.59-.52 0-1.04.2-1.43.59L10.3 9.45l-7.72 7.72c-.78.78-.78 2.05 0 2.83L4 21.41c.39.39.9.59 1.41.59.51 0 1.02-.2 1.41-.59l7.78-7.78 2.81-2.81c.8-.78.8-2.07 0-2.86zM5.41 20L4 18.59l7.72-7.72 1.47 1.35L5.41 20z\"/>\n",
              "  </svg>\n",
              "      </button>\n",
              "      \n",
              "  <style>\n",
              "    .colab-df-container {\n",
              "      display:flex;\n",
              "      flex-wrap:wrap;\n",
              "      gap: 12px;\n",
              "    }\n",
              "\n",
              "    .colab-df-convert {\n",
              "      background-color: #E8F0FE;\n",
              "      border: none;\n",
              "      border-radius: 50%;\n",
              "      cursor: pointer;\n",
              "      display: none;\n",
              "      fill: #1967D2;\n",
              "      height: 32px;\n",
              "      padding: 0 0 0 0;\n",
              "      width: 32px;\n",
              "    }\n",
              "\n",
              "    .colab-df-convert:hover {\n",
              "      background-color: #E2EBFA;\n",
              "      box-shadow: 0px 1px 2px rgba(60, 64, 67, 0.3), 0px 1px 3px 1px rgba(60, 64, 67, 0.15);\n",
              "      fill: #174EA6;\n",
              "    }\n",
              "\n",
              "    [theme=dark] .colab-df-convert {\n",
              "      background-color: #3B4455;\n",
              "      fill: #D2E3FC;\n",
              "    }\n",
              "\n",
              "    [theme=dark] .colab-df-convert:hover {\n",
              "      background-color: #434B5C;\n",
              "      box-shadow: 0px 1px 3px 1px rgba(0, 0, 0, 0.15);\n",
              "      filter: drop-shadow(0px 1px 2px rgba(0, 0, 0, 0.3));\n",
              "      fill: #FFFFFF;\n",
              "    }\n",
              "  </style>\n",
              "\n",
              "      <script>\n",
              "        const buttonEl =\n",
              "          document.querySelector('#df-0235c94f-5ce4-42b3-8d51-d4dfdb192293 button.colab-df-convert');\n",
              "        buttonEl.style.display =\n",
              "          google.colab.kernel.accessAllowed ? 'block' : 'none';\n",
              "\n",
              "        async function convertToInteractive(key) {\n",
              "          const element = document.querySelector('#df-0235c94f-5ce4-42b3-8d51-d4dfdb192293');\n",
              "          const dataTable =\n",
              "            await google.colab.kernel.invokeFunction('convertToInteractive',\n",
              "                                                     [key], {});\n",
              "          if (!dataTable) return;\n",
              "\n",
              "          const docLinkHtml = 'Like what you see? Visit the ' +\n",
              "            '<a target=\"_blank\" href=https://colab.research.google.com/notebooks/data_table.ipynb>data table notebook</a>'\n",
              "            + ' to learn more about interactive tables.';\n",
              "          element.innerHTML = '';\n",
              "          dataTable['output_type'] = 'display_data';\n",
              "          await google.colab.output.renderOutput(dataTable, element);\n",
              "          const docLink = document.createElement('div');\n",
              "          docLink.innerHTML = docLinkHtml;\n",
              "          element.appendChild(docLink);\n",
              "        }\n",
              "      </script>\n",
              "    </div>\n",
              "  </div>\n",
              "  "
            ]
          },
          "metadata": {},
          "execution_count": 22
        }
      ]
    },
    {
      "cell_type": "code",
      "source": [
        "X_train, X_test, y_train, y_test = train_test_split(X, y, train_size=0.8)\n"
      ],
      "metadata": {
        "id": "3zK13aH2KxUv"
      },
      "execution_count": 23,
      "outputs": []
    },
    {
      "cell_type": "markdown",
      "source": [
        "Problemimiz bir sınıflandırma problemi olduğu için logistic regression, support vector machine ve multilayer perceptron classifier metodlarını kullandım."
      ],
      "metadata": {
        "id": "aNLzSFXrM47f"
      }
    },
    {
      "cell_type": "code",
      "source": [
        "log_model = LogisticRegression()\n",
        "svm_model = SVC(C=1.0, kernel='rbf')\n",
        "nn_model = MLPClassifier(hidden_layer_sizes=(128, 128))"
      ],
      "metadata": {
        "id": "8xWxRDrPK03O"
      },
      "execution_count": 24,
      "outputs": []
    },
    {
      "cell_type": "code",
      "source": [
        "log_model.fit(X_train, y_train)\n",
        "svm_model.fit(X_train, y_train)\n",
        "nn_model.fit(X_train, y_train)"
      ],
      "metadata": {
        "colab": {
          "base_uri": "https://localhost:8080/"
        },
        "id": "L7SQoVIXK2LI",
        "outputId": "73698a44-0b84-49fe-c4b6-df4577ee9b11"
      },
      "execution_count": 25,
      "outputs": [
        {
          "output_type": "stream",
          "name": "stderr",
          "text": [
            "/usr/local/lib/python3.7/dist-packages/sklearn/neural_network/_multilayer_perceptron.py:696: ConvergenceWarning: Stochastic Optimizer: Maximum iterations (200) reached and the optimization hasn't converged yet.\n",
            "  ConvergenceWarning,\n"
          ]
        },
        {
          "output_type": "execute_result",
          "data": {
            "text/plain": [
              "MLPClassifier(hidden_layer_sizes=(128, 128))"
            ]
          },
          "metadata": {},
          "execution_count": 25
        }
      ]
    },
    {
      "cell_type": "code",
      "source": [
        "print(f\"---Logistic Regression: {log_model.score(X_test, y_test)}\")\n",
        "print(f\"Support Vector Machine: {svm_model.score(X_test, y_test)}\")\n",
        "print(f\"--------Neural Network: {nn_model.score(X_test, y_test)}\")\n"
      ],
      "metadata": {
        "colab": {
          "base_uri": "https://localhost:8080/"
        },
        "id": "VIv8713NK36H",
        "outputId": "0d3b4328-eccf-4803-b9a0-654931079f36"
      },
      "execution_count": 26,
      "outputs": [
        {
          "output_type": "stream",
          "name": "stdout",
          "text": [
            "---Logistic Regression: 0.64\n",
            "Support Vector Machine: 0.83\n",
            "--------Neural Network: 0.8975\n"
          ]
        }
      ]
    },
    {
      "cell_type": "markdown",
      "source": [
        "0.8975 doğrulukla tahmin eden Neural Network Modelinin confusion matrixi aşağıda görülmekte"
      ],
      "metadata": {
        "id": "jWPtLkbrO5-m"
      }
    },
    {
      "cell_type": "code",
      "source": [
        "from sklearn.metrics import accuracy_score \n",
        "from sklearn.metrics import confusion_matrix as cm\n",
        "predictions = nn_model.predict(X_test)\n",
        "score = round(accuracy_score(y_test, predictions), 3)\n",
        "cm1 = cm(y_test, predictions)\n",
        "sns.heatmap(cm1, annot=True, fmt=\".0f\")\n",
        "plt.xlabel('Predicted Values')\n",
        "plt.ylabel('Actual Values')\n",
        "plt.title('Accuracy Score: {0}'.format(score), size = 15)\n",
        "plt.show()"
      ],
      "metadata": {
        "colab": {
          "base_uri": "https://localhost:8080/",
          "height": 297
        },
        "id": "SbtT1mHWOnQg",
        "outputId": "e84b8cf2-353a-4ae0-fb56-2e27ae5363f2"
      },
      "execution_count": 33,
      "outputs": [
        {
          "output_type": "display_data",
          "data": {
            "text/plain": [
              "<Figure size 432x288 with 2 Axes>"
            ],
            "image/png": "[encoded data removed]"
          },
          "metadata": {
            "needs_background": "light"
          }
        }
      ]
    },
    {
      "cell_type": "markdown",
      "source": [
        "Hangi özniteliklerin sonucu en çok etkilediğine bakmak için bir de Random Forest Classifier metoduyla tahmin yapalım."
      ],
      "metadata": {
        "id": "iUCAfQaRP4f9"
      }
    },
    {
      "cell_type": "code",
      "source": [
        "from sklearn.ensemble import RandomForestClassifier\n",
        "X_train, X_test, y_train, y_test = train_test_split(X,y, test_size=0.2, random_state=42)\n",
        "rf = RandomForestClassifier(n_estimators=100, max_depth = 12, random_state=42)\n",
        "rf.fit(X_train, y_train)\n"
      ],
      "metadata": {
        "colab": {
          "base_uri": "https://localhost:8080/"
        },
        "id": "qW0MbvnzP3IO",
        "outputId": "8fb8b0e8-1c78-4601-a8b6-0a9c683aa835"
      },
      "execution_count": 37,
      "outputs": [
        {
          "output_type": "execute_result",
          "data": {
            "text/plain": [
              "RandomForestClassifier(max_depth=12, random_state=42)"
            ]
          },
          "metadata": {},
          "execution_count": 37
        }
      ]
    },
    {
      "cell_type": "code",
      "source": [
        "predictions = rf.predict(X_test)\n",
        "score = round(accuracy_score(y_test, predictions), 3)\n",
        "cm1 = cm(y_test, predictions)\n",
        "sns.heatmap(cm1, annot=True, fmt=\".0f\")\n",
        "plt.xlabel('Predicted Values')\n",
        "plt.ylabel('Actual Values')\n",
        "plt.title('Accuracy Score: {0}'.format(score), size = 15)\n",
        "plt.show()"
      ],
      "metadata": {
        "colab": {
          "base_uri": "https://localhost:8080/",
          "height": 297
        },
        "id": "DwilFvvNQHc8",
        "outputId": "cba6766c-6383-48f5-b9d4-6cf824b043c2"
      },
      "execution_count": 38,
      "outputs": [
        {
          "output_type": "display_data",
          "data": {
            "text/plain": [
              "<Figure size 432x288 with 2 Axes>"
            ],
            "image/png": "[encoded data removed]"
          },
          "metadata": {
            "needs_background": "light"
          }
        }
      ]
    },
    {
      "cell_type": "code",
      "source": [
        "from sklearn import ensemble\n",
        "from sklearn.metrics import classification_report\n",
        "print(classification_report(y_test, predictions))\n",
        "plt.figure(figsize=(16, 9))\n",
        "\n",
        "ranking = rf.feature_importances_\n",
        "features = np.argsort(ranking)[::-1][:4]\n",
        "columns = X.columns\n",
        "\n",
        "plt.title(\"Feature importances based on Random Forest Classifier\", y = 1.03, size = 18)\n",
        "plt.bar(range(len(features)), ranking[features], color=\"aqua\", align=\"center\")\n",
        "plt.xticks(range(len(features)), columns[features], rotation=80)\n",
        "plt.show()"
      ],
      "metadata": {
        "colab": {
          "base_uri": "https://localhost:8080/",
          "height": 766
        },
        "id": "DtgnLrH0Pb2Z",
        "outputId": "f7ff5b04-5ffb-4c81-f0b5-d1eae6ea49ab"
      },
      "execution_count": 43,
      "outputs": [
        {
          "output_type": "stream",
          "name": "stdout",
          "text": [
            "              precision    recall  f1-score   support\n",
            "\n",
            "       False       0.91      0.92      0.92       263\n",
            "        True       0.85      0.82      0.83       137\n",
            "\n",
            "    accuracy                           0.89       400\n",
            "   macro avg       0.88      0.87      0.87       400\n",
            "weighted avg       0.89      0.89      0.89       400\n",
            "\n"
          ]
        },
        {
          "output_type": "display_data",
          "data": {
            "text/plain": [
              "<Figure size 1152x648 with 1 Axes>"
            ],
            "image/png": "[encoded data removed]"
          },
          "metadata": {
            "needs_background": "light"
          }
        }
      ]
    },
    {
      "cell_type": "markdown",
      "source": [
        "Random Forest Classfier metoduna göre kararımızı etkileyen en önemli özniteligin öznitelik3 olduğu görülmektedir."
      ],
      "metadata": {
        "id": "RxfFqoVLQvXM"
      }
    },
    {
      "cell_type": "markdown",
      "source": [
        "Zamanım kısıtlıydı, veriyi nasıl görselleştirebilirim diye düşündüm fakat korelasyondan başka bir şey aklıma gelmedi. Daha sonrasında da sınıflandırma metodlarını kullanarak bir şeyler yaptım. İyi çalışmalar dilerim. Mert Kaplan"
      ],
      "metadata": {
        "id": "fseyu-OBPH7y"
      }
    }
  ]
}